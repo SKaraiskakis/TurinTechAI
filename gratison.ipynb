{
 "cells": [
  {
   "cell_type": "code",
   "execution_count": 2,
   "metadata": {},
   "outputs": [
    {
     "name": "stdout",
     "output_type": "stream",
     "text": [
      "Looking in indexes: https://nexus.turintech.ai/repository/pypi-all/simple, https://nexus.turintech.ai/repository/pypi-snapshot/simple\n",
      "Requirement already satisfied: rpy2 in /home/savvas/venvs/demo-project-venv/lib/python3.10/site-packages (3.5.12)\n",
      "Requirement already satisfied: cffi>=1.10.0 in /home/savvas/venvs/demo-project-venv/lib/python3.10/site-packages (from rpy2) (1.15.1)\n",
      "Requirement already satisfied: jinja2 in /home/savvas/venvs/demo-project-venv/lib/python3.10/site-packages (from rpy2) (3.1.2)\n",
      "Requirement already satisfied: pytz in /home/savvas/venvs/demo-project-venv/lib/python3.10/site-packages (from rpy2) (2023.3)\n",
      "Requirement already satisfied: tzlocal<5.0 in /home/savvas/venvs/demo-project-venv/lib/python3.10/site-packages (from rpy2) (4.3)\n",
      "Requirement already satisfied: pycparser in /home/savvas/venvs/demo-project-venv/lib/python3.10/site-packages (from cffi>=1.10.0->rpy2) (2.21)\n",
      "Requirement already satisfied: pytz-deprecation-shim in /home/savvas/venvs/demo-project-venv/lib/python3.10/site-packages (from tzlocal<5.0->rpy2) (0.1.0.post0)\n",
      "Requirement already satisfied: MarkupSafe>=2.0 in /home/savvas/venvs/demo-project-venv/lib/python3.10/site-packages (from jinja2->rpy2) (2.1.2)\n",
      "Requirement already satisfied: tzdata in /home/savvas/venvs/demo-project-venv/lib/python3.10/site-packages (from pytz-deprecation-shim->tzlocal<5.0->rpy2) (2023.3)\n"
     ]
    }
   ],
   "source": [
    "!pip install rpy2"
   ]
  },
  {
   "cell_type": "code",
   "execution_count": 3,
   "metadata": {},
   "outputs": [],
   "source": [
    "%load_ext rpy2.ipython\n"
   ]
  },
  {
   "cell_type": "code",
   "execution_count": 4,
   "metadata": {},
   "outputs": [
    {
     "name": "stdout",
     "output_type": "stream",
     "text": [
      "Registered S3 method overwritten by 'quantmod':\n",
      "  method            from\n",
      "  as.zoo.data.frame zoo \n",
      "Loading required package: fabletools\n",
      "\n",
      "Attaching package: ‘fabletools’\n",
      "\n",
      "The following object is masked from ‘package:forecast’:\n",
      "\n",
      "    accuracy\n",
      "\n",
      "Error in attr(x, \"tsp\") <- c(1, NROW(x), 1) : \n",
      "  invalid time series parameters specified\n",
      "In addition: Warning message:\n",
      "In (function (package, help, pos = 2, lib.loc = NULL, character.only = FALSE,  :\n",
      "  libraries ‘/usr/local/lib/R/site-library’, ‘/usr/lib/R/site-library’ contain no packages\n",
      "Error in attr(x, \"tsp\") <- c(1, NROW(x), 1) : \n",
      "  invalid time series parameters specified\n"
     ]
    },
    {
     "ename": "RInterpreterError",
     "evalue": "Failed to parse and evaluate line 'library(gratis)\\nlibrary(ggplot2)\\nlibrary(forecast)\\nlibrary(feasts)\\nset.seed(1)\\n\\nts_obj <- mar_model(seasonal_periods=12) %>% generate(length=120, nseries=2)\\nts_df <- data.frame(time = time(ts_obj), value = as.vector(ts_obj))\\nggplot(ts_df, aes(x = time, y = value)) + geom_line() + theme_minimal()\\n'.\nR error message: 'Error in attr(x, \"tsp\") <- c(1, NROW(x), 1) : \\n  invalid time series parameters specified'\nR stdout:\nRegistered S3 method overwritten by 'quantmod':\n  method            from\n  as.zoo.data.frame zoo \nLoading required package: fabletools\n\nAttaching package: ‘fabletools’\n\nThe following object is masked from ‘package:forecast’:\n\n    accuracy\n\nError in attr(x, \"tsp\") <- c(1, NROW(x), 1) : \n  invalid time series parameters specified\nIn addition: Warning message:\nIn (function (package, help, pos = 2, lib.loc = NULL, character.only = FALSE,  :\n  libraries ‘/usr/local/lib/R/site-library’, ‘/usr/lib/R/site-library’ contain no packages",
     "output_type": "error",
     "traceback": [
      "\u001b[0;31m---------------------------------------------------------------------------\u001b[0m",
      "\u001b[0;31mRRuntimeError\u001b[0m                             Traceback (most recent call last)",
      "File \u001b[0;32m~/venvs/demo-project-venv/lib/python3.10/site-packages/rpy2/ipython/rmagic.py:401\u001b[0m, in \u001b[0;36mRMagics.eval\u001b[0;34m(self, code)\u001b[0m\n\u001b[1;32m    400\u001b[0m     r_expr \u001b[39m=\u001b[39m ri\u001b[39m.\u001b[39mparse(code)\n\u001b[0;32m--> 401\u001b[0m     value, visible \u001b[39m=\u001b[39m ri\u001b[39m.\u001b[39;49mevalr_expr_with_visible(\n\u001b[1;32m    402\u001b[0m         r_expr\n\u001b[1;32m    403\u001b[0m     )\n\u001b[1;32m    404\u001b[0m \u001b[39mexcept\u001b[39;00m (ri\u001b[39m.\u001b[39membedded\u001b[39m.\u001b[39mRRuntimeError, \u001b[39mValueError\u001b[39;00m) \u001b[39mas\u001b[39;00m exception:\n\u001b[1;32m    405\u001b[0m     \u001b[39m# Otherwise next return seems to have copy of error.\u001b[39;00m\n",
      "File \u001b[0;32m~/venvs/demo-project-venv/lib/python3.10/site-packages/rpy2/rinterface.py:183\u001b[0m, in \u001b[0;36mevalr_expr_with_visible\u001b[0;34m(expr, envir)\u001b[0m\n\u001b[1;32m    182\u001b[0m \u001b[39mif\u001b[39;00m error_occured[\u001b[39m0\u001b[39m]:\n\u001b[0;32m--> 183\u001b[0m     \u001b[39mraise\u001b[39;00m embedded\u001b[39m.\u001b[39mRRuntimeError(_rinterface\u001b[39m.\u001b[39m_geterrmessage())\n\u001b[1;32m    184\u001b[0m res \u001b[39m=\u001b[39m conversion\u001b[39m.\u001b[39m_cdata_to_rinterface(r_res)\n",
      "\u001b[0;31mRRuntimeError\u001b[0m: Error in attr(x, \"tsp\") <- c(1, NROW(x), 1) : \n  invalid time series parameters specified\n",
      "\nDuring handling of the above exception, another exception occurred:\n",
      "\u001b[0;31mRInterpreterError\u001b[0m                         Traceback (most recent call last)",
      "Cell \u001b[0;32mIn[4], line 1\u001b[0m\n\u001b[0;32m----> 1\u001b[0m get_ipython()\u001b[39m.\u001b[39;49mrun_cell_magic(\u001b[39m'\u001b[39;49m\u001b[39mR\u001b[39;49m\u001b[39m'\u001b[39;49m, \u001b[39m'\u001b[39;49m\u001b[39m'\u001b[39;49m, \u001b[39m'\u001b[39;49m\u001b[39mlibrary(gratis)\u001b[39;49m\u001b[39m\\n\u001b[39;49;00m\u001b[39mlibrary(ggplot2)\u001b[39;49m\u001b[39m\\n\u001b[39;49;00m\u001b[39mlibrary(forecast)\u001b[39;49m\u001b[39m\\n\u001b[39;49;00m\u001b[39mlibrary(feasts)\u001b[39;49m\u001b[39m\\n\u001b[39;49;00m\u001b[39mset.seed(1)\u001b[39;49m\u001b[39m\\n\u001b[39;49;00m\u001b[39m\\n\u001b[39;49;00m\u001b[39mts_obj <- mar_model(seasonal_periods=12) \u001b[39;49m\u001b[39m%\u001b[39;49m\u001b[39m>\u001b[39;49m\u001b[39m% g\u001b[39;49;00m\u001b[39menerate(length=120, nseries=2)\u001b[39;49m\u001b[39m\\n\u001b[39;49;00m\u001b[39mts_df <- data.frame(time = time(ts_obj), value = as.vector(ts_obj))\u001b[39;49m\u001b[39m\\n\u001b[39;49;00m\u001b[39mggplot(ts_df, aes(x = time, y = value)) + geom_line() + theme_minimal()\u001b[39;49m\u001b[39m\\n\u001b[39;49;00m\u001b[39m'\u001b[39;49m)\n",
      "File \u001b[0;32m~/venvs/demo-project-venv/lib/python3.10/site-packages/IPython/core/interactiveshell.py:2478\u001b[0m, in \u001b[0;36mInteractiveShell.run_cell_magic\u001b[0;34m(self, magic_name, line, cell)\u001b[0m\n\u001b[1;32m   2476\u001b[0m \u001b[39mwith\u001b[39;00m \u001b[39mself\u001b[39m\u001b[39m.\u001b[39mbuiltin_trap:\n\u001b[1;32m   2477\u001b[0m     args \u001b[39m=\u001b[39m (magic_arg_s, cell)\n\u001b[0;32m-> 2478\u001b[0m     result \u001b[39m=\u001b[39m fn(\u001b[39m*\u001b[39;49margs, \u001b[39m*\u001b[39;49m\u001b[39m*\u001b[39;49mkwargs)\n\u001b[1;32m   2480\u001b[0m \u001b[39m# The code below prevents the output from being displayed\u001b[39;00m\n\u001b[1;32m   2481\u001b[0m \u001b[39m# when using magics with decodator @output_can_be_silenced\u001b[39;00m\n\u001b[1;32m   2482\u001b[0m \u001b[39m# when the last Python token in the expression is a ';'.\u001b[39;00m\n\u001b[1;32m   2483\u001b[0m \u001b[39mif\u001b[39;00m \u001b[39mgetattr\u001b[39m(fn, magic\u001b[39m.\u001b[39mMAGIC_OUTPUT_CAN_BE_SILENCED, \u001b[39mFalse\u001b[39;00m):\n",
      "File \u001b[0;32m~/venvs/demo-project-venv/lib/python3.10/site-packages/rpy2/ipython/rmagic.py:978\u001b[0m, in \u001b[0;36mRMagics.R\u001b[0;34m(self, line, cell, local_ns)\u001b[0m\n\u001b[1;32m    976\u001b[0m     \u001b[39mif\u001b[39;00m \u001b[39mnot\u001b[39;00m e\u001b[39m.\u001b[39mstdout\u001b[39m.\u001b[39mendswith(e\u001b[39m.\u001b[39merr):\n\u001b[1;32m    977\u001b[0m         \u001b[39mprint\u001b[39m(e\u001b[39m.\u001b[39merr)\n\u001b[0;32m--> 978\u001b[0m     \u001b[39mraise\u001b[39;00m e\n\u001b[1;32m    979\u001b[0m \u001b[39mfinally\u001b[39;00m:\n\u001b[1;32m    980\u001b[0m     \u001b[39mif\u001b[39;00m \u001b[39mself\u001b[39m\u001b[39m.\u001b[39mdevice \u001b[39min\u001b[39;00m DEVICES_STATIC:\n",
      "File \u001b[0;32m~/venvs/demo-project-venv/lib/python3.10/site-packages/rpy2/ipython/rmagic.py:943\u001b[0m, in \u001b[0;36mRMagics.R\u001b[0;34m(self, line, cell, local_ns)\u001b[0m\n\u001b[1;32m    941\u001b[0m         return_output \u001b[39m=\u001b[39m \u001b[39mFalse\u001b[39;00m\n\u001b[1;32m    942\u001b[0m \u001b[39melse\u001b[39;00m:\n\u001b[0;32m--> 943\u001b[0m     text_result, result, visible \u001b[39m=\u001b[39m \u001b[39mself\u001b[39;49m\u001b[39m.\u001b[39;49meval(code)\n\u001b[1;32m    944\u001b[0m     text_output \u001b[39m+\u001b[39m\u001b[39m=\u001b[39m text_result\n\u001b[1;32m    945\u001b[0m     \u001b[39mif\u001b[39;00m visible:\n",
      "File \u001b[0;32m~/venvs/demo-project-venv/lib/python3.10/site-packages/rpy2/ipython/rmagic.py:407\u001b[0m, in \u001b[0;36mRMagics.eval\u001b[0;34m(self, code)\u001b[0m\n\u001b[1;32m    404\u001b[0m \u001b[39mexcept\u001b[39;00m (ri\u001b[39m.\u001b[39membedded\u001b[39m.\u001b[39mRRuntimeError, \u001b[39mValueError\u001b[39;00m) \u001b[39mas\u001b[39;00m exception:\n\u001b[1;32m    405\u001b[0m     \u001b[39m# Otherwise next return seems to have copy of error.\u001b[39;00m\n\u001b[1;32m    406\u001b[0m     warning_or_other_msg \u001b[39m=\u001b[39m \u001b[39mself\u001b[39m\u001b[39m.\u001b[39mflush()\n\u001b[0;32m--> 407\u001b[0m     \u001b[39mraise\u001b[39;00m RInterpreterError(code, \u001b[39mstr\u001b[39m(exception),\n\u001b[1;32m    408\u001b[0m                             warning_or_other_msg)\n\u001b[1;32m    409\u001b[0m \u001b[39mfinally\u001b[39;00m:\n\u001b[1;32m    410\u001b[0m     ro\u001b[39m.\u001b[39m_print_deferred_warnings()\n",
      "\u001b[0;31mRInterpreterError\u001b[0m: Failed to parse and evaluate line 'library(gratis)\\nlibrary(ggplot2)\\nlibrary(forecast)\\nlibrary(feasts)\\nset.seed(1)\\n\\nts_obj <- mar_model(seasonal_periods=12) %>% generate(length=120, nseries=2)\\nts_df <- data.frame(time = time(ts_obj), value = as.vector(ts_obj))\\nggplot(ts_df, aes(x = time, y = value)) + geom_line() + theme_minimal()\\n'.\nR error message: 'Error in attr(x, \"tsp\") <- c(1, NROW(x), 1) : \\n  invalid time series parameters specified'\nR stdout:\nRegistered S3 method overwritten by 'quantmod':\n  method            from\n  as.zoo.data.frame zoo \nLoading required package: fabletools\n\nAttaching package: ‘fabletools’\n\nThe following object is masked from ‘package:forecast’:\n\n    accuracy\n\nError in attr(x, \"tsp\") <- c(1, NROW(x), 1) : \n  invalid time series parameters specified\nIn addition: Warning message:\nIn (function (package, help, pos = 2, lib.loc = NULL, character.only = FALSE,  :\n  libraries ‘/usr/local/lib/R/site-library’, ‘/usr/lib/R/site-library’ contain no packages"
     ]
    }
   ],
   "source": [
    "%%R\n",
    "library(gratis)\n",
    "library(ggplot2)\n",
    "library(forecast)\n",
    "library(feasts)\n",
    "set.seed(1)\n",
    "\n",
    "ts_obj <- mar_model(seasonal_periods=12) %>% generate(length=120, nseries=2)\n",
    "ts_df <- data.frame(time = time(ts_obj), value = as.vector(ts_obj))\n",
    "ggplot(ts_df, aes(x = time, y = value)) + geom_line() + theme_minimal()"
   ]
  }
 ],
 "metadata": {
  "kernelspec": {
   "display_name": "demo-project-venv",
   "language": "python",
   "name": "python3"
  },
  "language_info": {
   "codemirror_mode": {
    "name": "ipython",
    "version": 3
   },
   "file_extension": ".py",
   "mimetype": "text/x-python",
   "name": "python",
   "nbconvert_exporter": "python",
   "pygments_lexer": "ipython3",
   "version": "3.10.6"
  },
  "orig_nbformat": 4
 },
 "nbformat": 4,
 "nbformat_minor": 2
}
