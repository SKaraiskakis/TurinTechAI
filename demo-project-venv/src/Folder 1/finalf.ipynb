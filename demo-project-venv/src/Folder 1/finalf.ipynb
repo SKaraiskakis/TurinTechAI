{
 "cells": [
  {
   "cell_type": "code",
   "execution_count": 2,
   "metadata": {},
   "outputs": [
    {
     "name": "stdout",
     "output_type": "stream",
     "text": [
      "savvas\n"
     ]
    }
   ],
   "source": [
    "print(\"savvas\")\n"
   ]
  },
  {
   "cell_type": "code",
   "execution_count": 5,
   "metadata": {},
   "outputs": [],
   "source": [
    "def fun(x,y):\n",
    "    if x == 0:\n",
    "        print(\"oh no\")\n",
    "    if y==0:\n",
    "        print(\"double 0s\")"
   ]
  },
  {
   "cell_type": "code",
   "execution_count": 6,
   "metadata": {},
   "outputs": [
    {
     "name": "stdout",
     "output_type": "stream",
     "text": [
      "oh no\n",
      "double 0s\n"
     ]
    }
   ],
   "source": [
    "fun(0,0)"
   ]
  }
 ],
 "metadata": {
  "kernelspec": {
   "display_name": "demo-project-venv",
   "language": "python",
   "name": "python3"
  },
  "language_info": {
   "codemirror_mode": {
    "name": "ipython",
    "version": 3
   },
   "file_extension": ".py",
   "mimetype": "text/x-python",
   "name": "python",
   "nbconvert_exporter": "python",
   "pygments_lexer": "ipython3",
   "version": "3.10.6"
  },
  "orig_nbformat": 4
 },
 "nbformat": 4,
 "nbformat_minor": 2
}
